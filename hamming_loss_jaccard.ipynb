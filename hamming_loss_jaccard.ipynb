{
 "cells": [
  {
   "cell_type": "code",
   "execution_count": 2,
   "id": "4b054f79",
   "metadata": {},
   "outputs": [],
   "source": [
    "import numpy as np\n",
    "from sklearn.metrics import hamming_loss\n",
    "a=np.array([[0.0,1.0],[1.0,1.0]])\n",
    "y=np.array([[0.0,1.0],[1.0,1.0]])\n",
    "y1=np.array([[1.0,1.0],[1.0,1.0]])\n",
    "y2=np.array([[1.0,0.0],[1.0,1.0]])\n",
    "y3=np.array([[1.0,0.0],[0.0,1.0]])\n",
    "y4=np.array([[1.0,0.0],[0.0,0.0]])"
   ]
  },
  {
   "cell_type": "code",
   "execution_count": 3,
   "id": "29da0d0b",
   "metadata": {},
   "outputs": [
    {
     "name": "stdout",
     "output_type": "stream",
     "text": [
      "0.0\n",
      "0.25\n",
      "0.5\n",
      "0.75\n",
      "1.0\n"
     ]
    }
   ],
   "source": [
    "print(hamming_loss(a,y))\n",
    "print(hamming_loss(a,y1))\n",
    "print(hamming_loss(a,y2))\n",
    "print(hamming_loss(a,y3))\n",
    "print(hamming_loss(a,y4))"
   ]
  },
  {
   "cell_type": "code",
   "execution_count": 5,
   "id": "0977348d",
   "metadata": {},
   "outputs": [
    {
     "name": "stdout",
     "output_type": "stream",
     "text": [
      "1.0\n",
      "0.75\n",
      "0.5\n",
      "0.25\n",
      "0.0\n"
     ]
    }
   ],
   "source": [
    "from sklearn.metrics import jaccard_score\n",
    "print(jaccard_score(a,y,average='micro'))\n",
    "print(jaccard_score(a,y1,average='micro'))\n",
    "print(jaccard_score(a,y2,average='micro'))\n",
    "print(jaccard_score(a,y3,average='micro'))\n",
    "print(jaccard_score(a,y4,average='micro'))"
   ]
  },
  {
   "cell_type": "code",
   "execution_count": null,
   "id": "6efefcd2",
   "metadata": {},
   "outputs": [],
   "source": []
  }
 ],
 "metadata": {
  "kernelspec": {
   "display_name": "Python 3 (ipykernel)",
   "language": "python",
   "name": "python3"
  },
  "language_info": {
   "codemirror_mode": {
    "name": "ipython",
    "version": 3
   },
   "file_extension": ".py",
   "mimetype": "text/x-python",
   "name": "python",
   "nbconvert_exporter": "python",
   "pygments_lexer": "ipython3",
   "version": "3.11.5"
  }
 },
 "nbformat": 4,
 "nbformat_minor": 5
}
